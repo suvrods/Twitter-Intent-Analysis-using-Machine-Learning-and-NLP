{
 "cells": [
  {
   "cell_type": "markdown",
   "id": "f6e3c794",
   "metadata": {},
   "source": [
    "# Identifying the intent of tweet using Logistic Regression model and NLP(Natural Language Processing).\n",
    "\n",
    "There are various tweet intents like Appreciation, Community, Done,\n",
    "Giveaway, Interested, Launching Soon, PinkSale, PreSale, Whitelist. The aim is\n",
    "to do some basic and rudimentary data analyzing like checking for null values,\n",
    "duplicates and then cleaning it by removing unwanted (less important) features,\n",
    "splitting the whole dataset into training and testing part and then\n",
    "finally using classification, evaluating the model accuracy to predict\n",
    "the intent of some unknown(new) tweets."
   ]
  },
  {
   "cell_type": "markdown",
   "id": "d1aa27d2",
   "metadata": {},
   "source": [
    "Importing Required Libraries"
   ]
  },
  {
   "cell_type": "code",
   "execution_count": 1,
   "id": "b2619fdd",
   "metadata": {},
   "outputs": [],
   "source": [
    "import numpy as np\n",
    "import pandas as pd\n",
    "import matplotlib.pyplot as plt\n",
    "import seaborn as sns\n",
    "\n",
    "%matplotlib inline"
   ]
  },
  {
   "cell_type": "markdown",
   "id": "3f32921a",
   "metadata": {},
   "source": [
    "Loading the dataset and executing some analysis from the raw data"
   ]
  },
  {
   "cell_type": "code",
   "execution_count": 2,
   "id": "a27070cc",
   "metadata": {},
   "outputs": [
    {
     "data": {
      "text/html": [
       "<div>\n",
       "<style scoped>\n",
       "    .dataframe tbody tr th:only-of-type {\n",
       "        vertical-align: middle;\n",
       "    }\n",
       "\n",
       "    .dataframe tbody tr th {\n",
       "        vertical-align: top;\n",
       "    }\n",
       "\n",
       "    .dataframe thead th {\n",
       "        text-align: right;\n",
       "    }\n",
       "</style>\n",
       "<table border=\"1\" class=\"dataframe\">\n",
       "  <thead>\n",
       "    <tr style=\"text-align: right;\">\n",
       "      <th></th>\n",
       "      <th>id</th>\n",
       "      <th>tweet_text</th>\n",
       "      <th>tweet_created_at</th>\n",
       "      <th>tweet_intent</th>\n",
       "    </tr>\n",
       "  </thead>\n",
       "  <tbody>\n",
       "    <tr>\n",
       "      <th>0</th>\n",
       "      <td>1212762</td>\n",
       "      <td>@crypto_brody @eCoLoGy1990 @MoonrunnersNFT @It...</td>\n",
       "      <td>2022-08-06T16:56:36.000Z</td>\n",
       "      <td>Community</td>\n",
       "    </tr>\n",
       "    <tr>\n",
       "      <th>1</th>\n",
       "      <td>1212763</td>\n",
       "      <td>Need Sick Character artâ“#art #artist #Artist...</td>\n",
       "      <td>2022-08-06T16:56:36.000Z</td>\n",
       "      <td>Giveaway</td>\n",
       "    </tr>\n",
       "    <tr>\n",
       "      <th>2</th>\n",
       "      <td>1212765</td>\n",
       "      <td>@The_Hulk_NFT @INagotchiNFT @Tesla @killabears...</td>\n",
       "      <td>2022-08-06T16:56:35.000Z</td>\n",
       "      <td>Appreciation</td>\n",
       "    </tr>\n",
       "    <tr>\n",
       "      <th>3</th>\n",
       "      <td>1212766</td>\n",
       "      <td>@CryptoBatzNFT @DarekBTW The first project in ...</td>\n",
       "      <td>2022-08-06T16:56:35.000Z</td>\n",
       "      <td>Community</td>\n",
       "    </tr>\n",
       "    <tr>\n",
       "      <th>4</th>\n",
       "      <td>1212767</td>\n",
       "      <td>@sashadysonn The first project in crypto with ...</td>\n",
       "      <td>2022-08-06T16:56:34.000Z</td>\n",
       "      <td>Community</td>\n",
       "    </tr>\n",
       "  </tbody>\n",
       "</table>\n",
       "</div>"
      ],
      "text/plain": [
       "        id                                         tweet_text  \\\n",
       "0  1212762  @crypto_brody @eCoLoGy1990 @MoonrunnersNFT @It...   \n",
       "1  1212763  Need Sick Character artâ“#art #artist #Artist...   \n",
       "2  1212765  @The_Hulk_NFT @INagotchiNFT @Tesla @killabears...   \n",
       "3  1212766  @CryptoBatzNFT @DarekBTW The first project in ...   \n",
       "4  1212767  @sashadysonn The first project in crypto with ...   \n",
       "\n",
       "           tweet_created_at  tweet_intent  \n",
       "0  2022-08-06T16:56:36.000Z     Community  \n",
       "1  2022-08-06T16:56:36.000Z      Giveaway  \n",
       "2  2022-08-06T16:56:35.000Z  Appreciation  \n",
       "3  2022-08-06T16:56:35.000Z     Community  \n",
       "4  2022-08-06T16:56:34.000Z     Community  "
      ]
     },
     "execution_count": 2,
     "metadata": {},
     "output_type": "execute_result"
    }
   ],
   "source": [
    "df = pd.read_excel('Tweet_NFT.xlsx')\n",
    "\n",
    "df.head()"
   ]
  },
  {
   "cell_type": "code",
   "execution_count": 3,
   "id": "d45015d6",
   "metadata": {},
   "outputs": [
    {
     "name": "stdout",
     "output_type": "stream",
     "text": [
      "<class 'pandas.core.frame.DataFrame'>\n",
      "RangeIndex: 96364 entries, 0 to 96363\n",
      "Data columns (total 4 columns):\n",
      " #   Column            Non-Null Count  Dtype \n",
      "---  ------            --------------  ----- \n",
      " 0   id                96364 non-null  int64 \n",
      " 1   tweet_text        96364 non-null  object\n",
      " 2   tweet_created_at  96364 non-null  object\n",
      " 3   tweet_intent      96364 non-null  object\n",
      "dtypes: int64(1), object(3)\n",
      "memory usage: 2.9+ MB\n"
     ]
    }
   ],
   "source": [
    "df.info()"
   ]
  },
  {
   "cell_type": "code",
   "execution_count": 4,
   "id": "20b88bb5",
   "metadata": {},
   "outputs": [
    {
     "data": {
      "text/plain": [
       "array(['Community', 'Giveaway', 'Appreciation', 'Presale', 'Whitelist',\n",
       "       'pinksale', 'Done', 'Interested', 'Launching Soon'], dtype=object)"
      ]
     },
     "execution_count": 4,
     "metadata": {},
     "output_type": "execute_result"
    }
   ],
   "source": [
    "df.tweet_intent.unique()"
   ]
  },
  {
   "cell_type": "markdown",
   "id": "98022cae",
   "metadata": {},
   "source": [
    "Checking for the null values"
   ]
  },
  {
   "cell_type": "code",
   "execution_count": 5,
   "id": "f05e1728",
   "metadata": {},
   "outputs": [
    {
     "data": {
      "text/html": [
       "<div>\n",
       "<style scoped>\n",
       "    .dataframe tbody tr th:only-of-type {\n",
       "        vertical-align: middle;\n",
       "    }\n",
       "\n",
       "    .dataframe tbody tr th {\n",
       "        vertical-align: top;\n",
       "    }\n",
       "\n",
       "    .dataframe thead th {\n",
       "        text-align: right;\n",
       "    }\n",
       "</style>\n",
       "<table border=\"1\" class=\"dataframe\">\n",
       "  <thead>\n",
       "    <tr style=\"text-align: right;\">\n",
       "      <th></th>\n",
       "      <th>id</th>\n",
       "      <th>tweet_text</th>\n",
       "      <th>tweet_created_at</th>\n",
       "      <th>tweet_intent</th>\n",
       "    </tr>\n",
       "  </thead>\n",
       "  <tbody>\n",
       "    <tr>\n",
       "      <th>0</th>\n",
       "      <td>False</td>\n",
       "      <td>False</td>\n",
       "      <td>False</td>\n",
       "      <td>False</td>\n",
       "    </tr>\n",
       "    <tr>\n",
       "      <th>1</th>\n",
       "      <td>False</td>\n",
       "      <td>False</td>\n",
       "      <td>False</td>\n",
       "      <td>False</td>\n",
       "    </tr>\n",
       "    <tr>\n",
       "      <th>2</th>\n",
       "      <td>False</td>\n",
       "      <td>False</td>\n",
       "      <td>False</td>\n",
       "      <td>False</td>\n",
       "    </tr>\n",
       "    <tr>\n",
       "      <th>3</th>\n",
       "      <td>False</td>\n",
       "      <td>False</td>\n",
       "      <td>False</td>\n",
       "      <td>False</td>\n",
       "    </tr>\n",
       "    <tr>\n",
       "      <th>4</th>\n",
       "      <td>False</td>\n",
       "      <td>False</td>\n",
       "      <td>False</td>\n",
       "      <td>False</td>\n",
       "    </tr>\n",
       "    <tr>\n",
       "      <th>...</th>\n",
       "      <td>...</td>\n",
       "      <td>...</td>\n",
       "      <td>...</td>\n",
       "      <td>...</td>\n",
       "    </tr>\n",
       "    <tr>\n",
       "      <th>96359</th>\n",
       "      <td>False</td>\n",
       "      <td>False</td>\n",
       "      <td>False</td>\n",
       "      <td>False</td>\n",
       "    </tr>\n",
       "    <tr>\n",
       "      <th>96360</th>\n",
       "      <td>False</td>\n",
       "      <td>False</td>\n",
       "      <td>False</td>\n",
       "      <td>False</td>\n",
       "    </tr>\n",
       "    <tr>\n",
       "      <th>96361</th>\n",
       "      <td>False</td>\n",
       "      <td>False</td>\n",
       "      <td>False</td>\n",
       "      <td>False</td>\n",
       "    </tr>\n",
       "    <tr>\n",
       "      <th>96362</th>\n",
       "      <td>False</td>\n",
       "      <td>False</td>\n",
       "      <td>False</td>\n",
       "      <td>False</td>\n",
       "    </tr>\n",
       "    <tr>\n",
       "      <th>96363</th>\n",
       "      <td>False</td>\n",
       "      <td>False</td>\n",
       "      <td>False</td>\n",
       "      <td>False</td>\n",
       "    </tr>\n",
       "  </tbody>\n",
       "</table>\n",
       "<p>96364 rows × 4 columns</p>\n",
       "</div>"
      ],
      "text/plain": [
       "          id  tweet_text  tweet_created_at  tweet_intent\n",
       "0      False       False             False         False\n",
       "1      False       False             False         False\n",
       "2      False       False             False         False\n",
       "3      False       False             False         False\n",
       "4      False       False             False         False\n",
       "...      ...         ...               ...           ...\n",
       "96359  False       False             False         False\n",
       "96360  False       False             False         False\n",
       "96361  False       False             False         False\n",
       "96362  False       False             False         False\n",
       "96363  False       False             False         False\n",
       "\n",
       "[96364 rows x 4 columns]"
      ]
     },
     "execution_count": 5,
     "metadata": {},
     "output_type": "execute_result"
    }
   ],
   "source": [
    "df.isnull()"
   ]
  },
  {
   "cell_type": "code",
   "execution_count": 7,
   "id": "103f9ea7",
   "metadata": {},
   "outputs": [
    {
     "data": {
      "text/plain": [
       "id                  0\n",
       "tweet_text          0\n",
       "tweet_created_at    0\n",
       "tweet_intent        0\n",
       "dtype: int64"
      ]
     },
     "execution_count": 7,
     "metadata": {},
     "output_type": "execute_result"
    }
   ],
   "source": [
    "df.isnull().sum()"
   ]
  },
  {
   "cell_type": "markdown",
   "id": "e7175adb",
   "metadata": {},
   "source": [
    "Eliminating the unwanted feature so that the classification task will be easier. Input(feature) will be only tweet texts\n",
    "and output(target) will be the intent of the tweets."
   ]
  },
  {
   "cell_type": "code",
   "execution_count": 8,
   "id": "e145cfe2",
   "metadata": {},
   "outputs": [
    {
     "data": {
      "text/html": [
       "<div>\n",
       "<style scoped>\n",
       "    .dataframe tbody tr th:only-of-type {\n",
       "        vertical-align: middle;\n",
       "    }\n",
       "\n",
       "    .dataframe tbody tr th {\n",
       "        vertical-align: top;\n",
       "    }\n",
       "\n",
       "    .dataframe thead th {\n",
       "        text-align: right;\n",
       "    }\n",
       "</style>\n",
       "<table border=\"1\" class=\"dataframe\">\n",
       "  <thead>\n",
       "    <tr style=\"text-align: right;\">\n",
       "      <th></th>\n",
       "      <th>tweet_text</th>\n",
       "      <th>tweet_intent</th>\n",
       "    </tr>\n",
       "  </thead>\n",
       "  <tbody>\n",
       "    <tr>\n",
       "      <th>0</th>\n",
       "      <td>@crypto_brody @eCoLoGy1990 @MoonrunnersNFT @It...</td>\n",
       "      <td>Community</td>\n",
       "    </tr>\n",
       "    <tr>\n",
       "      <th>1</th>\n",
       "      <td>Need Sick Character artâ“#art #artist #Artist...</td>\n",
       "      <td>Giveaway</td>\n",
       "    </tr>\n",
       "    <tr>\n",
       "      <th>2</th>\n",
       "      <td>@The_Hulk_NFT @INagotchiNFT @Tesla @killabears...</td>\n",
       "      <td>Appreciation</td>\n",
       "    </tr>\n",
       "    <tr>\n",
       "      <th>3</th>\n",
       "      <td>@CryptoBatzNFT @DarekBTW The first project in ...</td>\n",
       "      <td>Community</td>\n",
       "    </tr>\n",
       "    <tr>\n",
       "      <th>4</th>\n",
       "      <td>@sashadysonn The first project in crypto with ...</td>\n",
       "      <td>Community</td>\n",
       "    </tr>\n",
       "    <tr>\n",
       "      <th>5</th>\n",
       "      <td>ðŸŽ‰ Just registered for the saphire on @PREMI...</td>\n",
       "      <td>Presale</td>\n",
       "    </tr>\n",
       "    <tr>\n",
       "      <th>6</th>\n",
       "      <td>ðŸš¨ THE BRIDGED #4660/9999 SOLD!!! =&amp;gt; PRIC...</td>\n",
       "      <td>Giveaway</td>\n",
       "    </tr>\n",
       "    <tr>\n",
       "      <th>7</th>\n",
       "      <td>@mtnDAO PROJECT 21 - THE BEST GAMEFI PROJECT O...</td>\n",
       "      <td>Whitelist</td>\n",
       "    </tr>\n",
       "    <tr>\n",
       "      <th>8</th>\n",
       "      <td>@Ra8bitsNFT Feature it on @Globalnft07\\nWe hav...</td>\n",
       "      <td>Community</td>\n",
       "    </tr>\n",
       "    <tr>\n",
       "      <th>9</th>\n",
       "      <td>@SpaceBrosBSC PROJECT 21 - THE BEST GAMEFI PRO...</td>\n",
       "      <td>Whitelist</td>\n",
       "    </tr>\n",
       "  </tbody>\n",
       "</table>\n",
       "</div>"
      ],
      "text/plain": [
       "                                          tweet_text  tweet_intent\n",
       "0  @crypto_brody @eCoLoGy1990 @MoonrunnersNFT @It...     Community\n",
       "1  Need Sick Character artâ“#art #artist #Artist...      Giveaway\n",
       "2  @The_Hulk_NFT @INagotchiNFT @Tesla @killabears...  Appreciation\n",
       "3  @CryptoBatzNFT @DarekBTW The first project in ...     Community\n",
       "4  @sashadysonn The first project in crypto with ...     Community\n",
       "5  ðŸŽ‰ Just registered for the saphire on @PREMI...       Presale\n",
       "6  ðŸš¨ THE BRIDGED #4660/9999 SOLD!!! =&gt; PRIC...      Giveaway\n",
       "7  @mtnDAO PROJECT 21 - THE BEST GAMEFI PROJECT O...     Whitelist\n",
       "8  @Ra8bitsNFT Feature it on @Globalnft07\\nWe hav...     Community\n",
       "9  @SpaceBrosBSC PROJECT 21 - THE BEST GAMEFI PRO...     Whitelist"
      ]
     },
     "execution_count": 8,
     "metadata": {},
     "output_type": "execute_result"
    }
   ],
   "source": [
    "df_mod = df.drop(['id', 'tweet_created_at'], axis=1)\n",
    "\n",
    "df_mod.head(10)"
   ]
  },
  {
   "cell_type": "markdown",
   "id": "8d80fa5c",
   "metadata": {},
   "source": [
    "Deleting (dropping) the duplicate values"
   ]
  },
  {
   "cell_type": "code",
   "execution_count": 9,
   "id": "848b63da",
   "metadata": {},
   "outputs": [
    {
     "data": {
      "text/plain": [
       "(96364, 2)"
      ]
     },
     "execution_count": 9,
     "metadata": {},
     "output_type": "execute_result"
    }
   ],
   "source": [
    "df_mod.shape"
   ]
  },
  {
   "cell_type": "code",
   "execution_count": 10,
   "id": "2bccca35",
   "metadata": {},
   "outputs": [],
   "source": [
    "df_mod.drop_duplicates(inplace=True)"
   ]
  },
  {
   "cell_type": "code",
   "execution_count": 11,
   "id": "e168f6bb",
   "metadata": {},
   "outputs": [
    {
     "data": {
      "text/plain": [
       "(84908, 2)"
      ]
     },
     "execution_count": 11,
     "metadata": {},
     "output_type": "execute_result"
    }
   ],
   "source": [
    "df_mod.shape"
   ]
  },
  {
   "cell_type": "markdown",
   "id": "c1acd08b",
   "metadata": {},
   "source": [
    "Adjusting the input tweets, converting the entire text into lower case,\n",
    "removing special(alpha-numerical) characters and eliminating some usual\n",
    "and obvious words(like 'the', 'for', 'of', 'a', 'an' etc) which do not\n",
    "affect much into text classification using Python stopwords library."
   ]
  },
  {
   "cell_type": "code",
   "execution_count": 12,
   "id": "6dd0ba8d",
   "metadata": {},
   "outputs": [
    {
     "name": "stdout",
     "output_type": "stream",
     "text": [
      "1968630\n"
     ]
    }
   ],
   "source": [
    "print(df_mod['tweet_text'].apply(lambda x: len(x.split(' '))).sum())"
   ]
  },
  {
   "cell_type": "code",
   "execution_count": 13,
   "id": "6aaddfe1",
   "metadata": {},
   "outputs": [],
   "source": [
    "from nltk.corpus import stopwords\n",
    "import re\n",
    "from sklearn.feature_extraction.text import CountVectorizer,TfidfVectorizer,TfidfTransformer\n",
    "from sklearn.metrics import accuracy_score"
   ]
  },
  {
   "cell_type": "code",
   "execution_count": 14,
   "id": "bf3555a8",
   "metadata": {},
   "outputs": [],
   "source": [
    "special_char_remover = re.compile('[\\/{}|@:#,;]')\n",
    "Stopwords = set(stopwords.words('english'))\n",
    "\n",
    "def clean_text(text):\n",
    "    text = text.lower()\n",
    "    text = special_char_remover.sub(' ',text)\n",
    "    text = ' '.join(word for word in text.split() if word not in Stopwords)\n",
    "    return text"
   ]
  },
  {
   "cell_type": "code",
   "execution_count": 15,
   "id": "4a3b6a5b",
   "metadata": {},
   "outputs": [],
   "source": [
    "df_mod['tweet_text'] = df_mod['tweet_text'].apply(clean_text) "
   ]
  },
  {
   "cell_type": "code",
   "execution_count": 16,
   "id": "5ab90cb7",
   "metadata": {},
   "outputs": [
    {
     "name": "stdout",
     "output_type": "stream",
     "text": [
      "1661859\n"
     ]
    }
   ],
   "source": [
    "print(df_mod['tweet_text'].apply(lambda x: len(x.split(' '))).sum())"
   ]
  },
  {
   "cell_type": "markdown",
   "id": "d1f17330",
   "metadata": {},
   "source": [
    "Splliting the dataset into training and testing part"
   ]
  },
  {
   "cell_type": "code",
   "execution_count": 17,
   "id": "9d38d1db",
   "metadata": {},
   "outputs": [
    {
     "name": "stdout",
     "output_type": "stream",
     "text": [
      "(67926,)\n",
      "(16982,)\n"
     ]
    }
   ],
   "source": [
    "X = df_mod.tweet_text\n",
    "y = df_mod.tweet_intent\n",
    "\n",
    "from sklearn.model_selection import train_test_split\n",
    "X_train, X_test, y_train, y_test = train_test_split(X, y, test_size = 0.2, random_state = 42)\n",
    "\n",
    "print(X_train.shape)\n",
    "print(X_test.shape)"
   ]
  },
  {
   "cell_type": "markdown",
   "id": "4b0824ca",
   "metadata": {},
   "source": [
    "Building the ML model and pedicting the accuracy. It has been found that the final accuracy is\n",
    "almost 96% which is substantially enough to predict the intents of unknown tweets. "
   ]
  },
  {
   "cell_type": "code",
   "execution_count": 19,
   "id": "7a1dd4bb",
   "metadata": {},
   "outputs": [
    {
     "name": "stderr",
     "output_type": "stream",
     "text": [
      "C:\\Users\\Suvronil Chatterjee\\anaconda3\\lib\\site-packages\\sklearn\\linear_model\\_logistic.py:763: ConvergenceWarning: lbfgs failed to converge (status=1):\n",
      "STOP: TOTAL NO. of ITERATIONS REACHED LIMIT.\n",
      "\n",
      "Increase the number of iterations (max_iter) or scale the data as shown in:\n",
      "    https://scikit-learn.org/stable/modules/preprocessing.html\n",
      "Please also refer to the documentation for alternative solver options:\n",
      "    https://scikit-learn.org/stable/modules/linear_model.html#logistic-regression\n",
      "  n_iter_i = _check_optimize_result(\n"
     ]
    },
    {
     "name": "stdout",
     "output_type": "stream",
     "text": [
      "0.9643740431044635\n"
     ]
    }
   ],
   "source": [
    "from sklearn.pipeline import Pipeline\n",
    "from sklearn.linear_model import LogisticRegression\n",
    "\n",
    "model = Pipeline([('vectorizer', CountVectorizer()), ('tfidf', TfidfTransformer()), ('lr', LogisticRegression())])\n",
    "\n",
    "model.fit(X_train, y_train)\n",
    "prediction = model.predict(X_test)\n",
    "accuracy = accuracy_score(prediction, y_test)\n",
    "\n",
    "print(accuracy)"
   ]
  }
 ],
 "metadata": {
  "kernelspec": {
   "display_name": "Python 3 (ipykernel)",
   "language": "python",
   "name": "python3"
  },
  "language_info": {
   "codemirror_mode": {
    "name": "ipython",
    "version": 3
   },
   "file_extension": ".py",
   "mimetype": "text/x-python",
   "name": "python",
   "nbconvert_exporter": "python",
   "pygments_lexer": "ipython3",
   "version": "3.9.7"
  }
 },
 "nbformat": 4,
 "nbformat_minor": 5
}
